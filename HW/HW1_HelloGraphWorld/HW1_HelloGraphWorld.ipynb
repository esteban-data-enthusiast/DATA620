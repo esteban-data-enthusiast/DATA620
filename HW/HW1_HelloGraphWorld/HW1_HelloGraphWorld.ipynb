{
 "cells": [
  {
   "cell_type": "markdown",
   "id": "022c6a97",
   "metadata": {},
   "source": [
    "DATA620\n",
    "\n",
    "Assignment 1 - Hello Graph World\n",
    "\n",
    "Author: Esteban Aramayo"
   ]
  },
  {
   "cell_type": "markdown",
   "id": "c1e7c2b0",
   "metadata": {},
   "source": [
    "In this assignment, you’re asked to create the nodes and edges for a basic graph, such as the Krackhardt kite shown below. (You’re welcome to substitute data of your own choosing)."
   ]
  },
  {
   "cell_type": "markdown",
   "id": "fb6f7439",
   "metadata": {},
   "source": [
    "<img src=\"Krackhardt_kite.png\" style=\"width:300px;height:200px\"/>"
   ]
  },
  {
   "cell_type": "code",
   "execution_count": 23,
   "id": "a7d7dbe0",
   "metadata": {},
   "outputs": [],
   "source": [
    "import networkx as nx\n",
    "import matplotlib.pyplot as plt"
   ]
  },
  {
   "cell_type": "markdown",
   "id": "091897ef",
   "metadata": {},
   "source": [
    "Create an instance of a graph"
   ]
  },
  {
   "cell_type": "code",
   "execution_count": 24,
   "id": "591804a8",
   "metadata": {},
   "outputs": [],
   "source": [
    "G = nx.Graph()"
   ]
  },
  {
   "cell_type": "markdown",
   "id": "bea41066",
   "metadata": {},
   "source": [
    "Add nodes to the graph"
   ]
  },
  {
   "cell_type": "code",
   "execution_count": 25,
   "id": "41df7509",
   "metadata": {},
   "outputs": [],
   "source": [
    "my_nodes = ['Andre','Beverly','Carol','Diane','Ed','Fernando','Garth','Heather','Ike','Jane']"
   ]
  },
  {
   "cell_type": "code",
   "execution_count": 26,
   "id": "a4fd1d14",
   "metadata": {},
   "outputs": [],
   "source": [
    "G.add_nodes_from(my_nodes)"
   ]
  },
  {
   "cell_type": "markdown",
   "id": "41af3d00",
   "metadata": {},
   "source": [
    "Display the graph's nodes"
   ]
  },
  {
   "cell_type": "code",
   "execution_count": 27,
   "id": "3e76968c",
   "metadata": {},
   "outputs": [
    {
     "data": {
      "text/plain": [
       "NodeView(('Andre', 'Beverly', 'Carol', 'Diane', 'Ed', 'Fernando', 'Garth', 'Heather', 'Ike', 'Jane'))"
      ]
     },
     "execution_count": 27,
     "metadata": {},
     "output_type": "execute_result"
    }
   ],
   "source": [
    "G.nodes()"
   ]
  },
  {
   "cell_type": "markdown",
   "id": "94c224e6",
   "metadata": {},
   "source": [
    "Define the edges for the graph"
   ]
  },
  {
   "cell_type": "code",
   "execution_count": 28,
   "id": "fe17891a",
   "metadata": {},
   "outputs": [],
   "source": [
    "my_edges = [('Andre','Beverly'),('Andre','Carol'),('Andre','Diane'),('Andre','Fernando'),\n",
    "        ('Beverly','Diane'),('Beverly','Ed'),('Beverly','Garth'),\n",
    "        ('Carol','Diane'),('Carol','Fernando'),\n",
    "        ('Diane','Ed'),('Diane','Fernando'),('Diane','Garth'),\n",
    "        ('Ed','Garth'),\n",
    "        ('Fernando','Garth'),('Fernando','Heather'),\n",
    "        ('Garth','Heather'),\n",
    "        ('Heather','Ike'),\n",
    "        ('Ike','Jane')]"
   ]
  },
  {
   "cell_type": "markdown",
   "id": "755f7118",
   "metadata": {},
   "source": [
    "Add edges to the graph"
   ]
  },
  {
   "cell_type": "code",
   "execution_count": 29,
   "id": "eb900c7e",
   "metadata": {},
   "outputs": [],
   "source": [
    "G.add_edges_from(my_edges)"
   ]
  },
  {
   "cell_type": "markdown",
   "id": "34cc658d",
   "metadata": {},
   "source": [
    "List the edges of the graph"
   ]
  },
  {
   "cell_type": "code",
   "execution_count": 30,
   "id": "f6f94679",
   "metadata": {
    "scrolled": true
   },
   "outputs": [
    {
     "data": {
      "text/plain": [
       "EdgeView([('Andre', 'Beverly'), ('Andre', 'Carol'), ('Andre', 'Diane'), ('Andre', 'Fernando'), ('Beverly', 'Diane'), ('Beverly', 'Ed'), ('Beverly', 'Garth'), ('Carol', 'Diane'), ('Carol', 'Fernando'), ('Diane', 'Ed'), ('Diane', 'Fernando'), ('Diane', 'Garth'), ('Ed', 'Garth'), ('Fernando', 'Garth'), ('Fernando', 'Heather'), ('Garth', 'Heather'), ('Heather', 'Ike'), ('Ike', 'Jane')])"
      ]
     },
     "execution_count": 30,
     "metadata": {},
     "output_type": "execute_result"
    }
   ],
   "source": [
    "G.edges()"
   ]
  },
  {
   "cell_type": "markdown",
   "id": "46f6e6b0",
   "metadata": {},
   "source": [
    "Draw and show the graph"
   ]
  },
  {
   "cell_type": "code",
   "execution_count": 31,
   "id": "b6d3f102",
   "metadata": {},
   "outputs": [
    {
     "data": {
      "image/png": "[encoded data removed]",
      "text/plain": [
       "<Figure size 432x288 with 1 Axes>"
      ]
     },
     "metadata": {},
     "output_type": "display_data"
    }
   ],
   "source": [
    "nx.draw(G, with_labels = True)\n",
    "plt.show()"
   ]
  }
 ],
 "metadata": {
  "kernelspec": {
   "display_name": "Python 3",
   "language": "python",
   "name": "python3"
  },
  "language_info": {
   "codemirror_mode": {
    "name": "ipython",
    "version": 3
   },
   "file_extension": ".py",
   "mimetype": "text/x-python",
   "name": "python",
   "nbconvert_exporter": "python",
   "pygments_lexer": "ipython3",
   "version": "3.7.10"
  }
 },
 "nbformat": 4,
 "nbformat_minor": 5
}
